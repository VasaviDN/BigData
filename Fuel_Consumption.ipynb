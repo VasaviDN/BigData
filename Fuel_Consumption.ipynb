{
 "cells": [
  {
   "cell_type": "code",
   "execution_count": 1,
   "id": "c1fd0e4d-6001-442d-9377-48ae356a60d9",
   "metadata": {},
   "outputs": [],
   "source": [
    "from pyspark.sql import SparkSession\n",
    "from pyspark.sql.functions import *"
   ]
  },
  {
   "cell_type": "code",
   "execution_count": 2,
   "id": "1c005eb4-880a-4745-ab26-cb5861e67028",
   "metadata": {},
   "outputs": [],
   "source": [
    "spark = SparkSession.builder.appName(\"Fuel_Consumption_2000-2022\").getOrCreate()"
   ]
  },
  {
   "cell_type": "code",
   "execution_count": 3,
   "id": "db1b1d9a-473e-40dd-9b29-2ff288f37f33",
   "metadata": {},
   "outputs": [],
   "source": [
    "df = spark.read.format(\"csv\").option(\"header\", \"true\").option(\"inferSchema\", \"true\").load(\"Fuel_Consumption_2000-2022.csv\")"
   ]
  },
  {
   "cell_type": "code",
   "execution_count": 4,
   "id": "7cd68ee6-ca24-4ed7-be44-919cc1f2a2bd",
   "metadata": {},
   "outputs": [
    {
     "name": "stdout",
     "output_type": "stream",
     "text": [
      "+-------+------------------+-----+------------------+--------------+------------------+------------------+------------+-----+-----------------+-----------------+------------------+------------------+------------------+\n",
      "|summary|              YEAR| MAKE|             MODEL| VEHICLE CLASS|       ENGINE SIZE|         CYLINDERS|TRANSMISSION| FUEL| FUEL CONSUMPTION|   HWY (L/100 km)|   COMB (L/100 km)|        COMB (mpg)|         EMISSIONS|\n",
      "+-------+------------------+-----+------------------+--------------+------------------+------------------+------------+-----+-----------------+-----------------+------------------+------------------+------------------+\n",
      "|  count|             22556|22556|             22556|         22556|             22556|             22556|       22556|22556|            22556|            22556|             22556|             22556|             22556|\n",
      "|   mean|2011.5544422769995| NULL| 528.3333333333334|          NULL|3.3566456818584967|5.8541408051072885|        NULL| NULL|12.76351303422599|8.919125731512668|11.034341195247414|27.374534491931193|250.06845185316544|\n",
      "| stddev| 6.298269230133513| NULL|445.19911995674073|          NULL|1.3354251755787272|1.8195972919794774|        NULL| NULL|3.500998820187852|2.274763859544364|2.9109199712714555| 7.376981738521468| 59.35527632628325|\n",
      "|    min|              2000|ACURA|  1 SERIES M COUPE|       COMPACT|               0.8|                 2|         A10|    D|              3.5|              3.2|               3.6|                11|                83|\n",
      "|    max|              2022|Volvo|                xD|Van: Passenger|               8.4|                16|          M7|    Z|             30.6|             20.9|              26.1|                78|               608|\n",
      "+-------+------------------+-----+------------------+--------------+------------------+------------------+------------+-----+-----------------+-----------------+------------------+------------------+------------------+\n",
      "\n"
     ]
    }
   ],
   "source": [
    "df.describe().show()"
   ]
  },
  {
   "cell_type": "code",
   "execution_count": 5,
   "id": "cd954694-6805-489a-80cb-9daa14867024",
   "metadata": {},
   "outputs": [],
   "source": [
    "class_mapping = {\n",
    "    'SUV: Small': 'SUV - SMALL',\n",
    "    'Station wagon: Mid-size': 'STATION WAGON - MID-SIZE',\n",
    "    'Station wagon: Small': 'STATION WAGON - SMALL',\n",
    "    'Van: Passenger': 'VAN - PASSENGER',\n",
    "    'Pickup truck: Small': 'PICKUP TRUCK - SMALL',\n",
    "    'Pickup truck: Standard': 'PICKUP TRUCK - STANDARD',\n",
    "    'SUV: Standard': 'SUV - STANDARD'\n",
    "}\n",
    "\n",
    "@udf(StringType())\n",
    "def standardize_vehicle_class(vehicle_class):\n",
    "    return class_mapping.get(vehicle_class, vehicle_class)\n",
    "\n",
    "df_clean = df.withColumn('Vehicle Class', standardize_vehicle_class(df['Vehicle Class']))"
   ]
  },
  {
   "cell_type": "code",
   "execution_count": 23,
   "id": "cc9ac1d6-cacf-4e58-818c-0d4a5c90f960",
   "metadata": {},
   "outputs": [],
   "source": [
    "panda_df = df.toPandas()\n",
    "panda_df.to_csv(\"Cleaned_Fuel_Consumption_2000-2022.csv\")"
   ]
  },
  {
   "cell_type": "code",
   "execution_count": 8,
   "id": "21486229-3845-42d1-8c52-2f9760e2d972",
   "metadata": {},
   "outputs": [
    {
     "name": "stdout",
     "output_type": "stream",
     "text": [
      "+----+------------------+-------------------+\n",
      "|YEAR|avg_HWY_efficiency|avg_COMB_efficiency|\n",
      "+----+------------------+-------------------+\n",
      "|2000|9.07              |11.3               |\n",
      "|2001|8.99              |11.2               |\n",
      "|2002|9.32              |11.6               |\n",
      "|2003|9.22              |11.47              |\n",
      "|2004|9.26              |11.55              |\n",
      "|2005|9.1               |11.41              |\n",
      "|2006|8.98              |11.28              |\n",
      "|2007|9.06              |11.42              |\n",
      "|2008|8.92              |11.26              |\n",
      "|2009|8.9               |11.25              |\n",
      "|2010|8.67              |10.92              |\n",
      "|2011|8.67              |10.92              |\n",
      "|2012|8.51              |10.74              |\n",
      "|2013|8.23              |10.38              |\n",
      "|2014|8.01              |10.09              |\n",
      "|2015|8.93              |10.98              |\n",
      "|2016|8.84              |10.81              |\n",
      "|2017|8.98              |10.87              |\n",
      "|2018|8.99              |10.85              |\n",
      "|2019|9.03              |10.87              |\n",
      "|2020|9.15              |10.97              |\n",
      "|2021|9.33              |11.09              |\n",
      "|2022|9.4               |11.13              |\n",
      "+----+------------------+-------------------+\n",
      "\n"
     ]
    }
   ],
   "source": [
    "# 1. Analyze how fuel efficiency (HWY and COMB) has evolved over time (2000-2022) to identify long-term trends and fluctuations.\n",
    "filtered_data = df_clean.filter((df_clean['YEAR'] >= 2000) & (df_clean['YEAR'] <= 2022))\n",
    "fuel_efficiency_by_year = filtered_data.groupBy('YEAR').agg(\n",
    "    round(avg('HWY (L/100 km)'), 2).alias('avg_HWY_efficiency'),\n",
    "    round(avg('COMB (L/100 km)'), 2).alias('avg_COMB_efficiency')\n",
    ")\n",
    "fuel_efficiency_by_year = fuel_efficiency_by_year.orderBy('YEAR')\n",
    "fuel_efficiency_by_year.show(fuel_efficiency_by_year.count(), truncate=False)\n",
    "\n",
    "pandas_df_year = fuel_efficiency_by_year.toPandas()\n",
    "local_path = \"Goal1_fuel_efficiency_by_year.csv\"\n",
    "pandas_df_year.to_csv(local_path, index=False)"
   ]
  },
  {
   "cell_type": "code",
   "execution_count": 9,
   "id": "597ed553-70a6-4021-85e5-ec2f93e6916b",
   "metadata": {},
   "outputs": [
    {
     "name": "stdout",
     "output_type": "stream",
     "text": [
      "+----------+--------------------+------------+\n",
      "|      MAKE|               MODEL|avg_COMB_mpg|\n",
      "+----------+--------------------+------------+\n",
      "|     HONDA|             INSIGHT|       74.11|\n",
      "|   Hyundai|          IONIQ Blue|        69.8|\n",
      "|   HYUNDAI|          IONIQ BLUE|        69.0|\n",
      "|    TOYOTA|               PRIUS|       67.82|\n",
      "|     SMART|          FORTWO CDI|        67.0|\n",
      "|     SMART|FORTWO CDI CABRIOLET|        67.0|\n",
      "|    TOYOTA|             PRIUS c|       66.67|\n",
      "|   Hyundai|               IONIQ|        66.6|\n",
      "|   Hyundai| Elantra Hybrid Blue|        64.0|\n",
      "|VOLKSWAGEN|  JETTA TURBO HYBRID|        64.0|\n",
      "+----------+--------------------+------------+\n",
      "\n",
      "+-----------+--------------------+------------+\n",
      "|       MAKE|               MODEL|avg_COMB_mpg|\n",
      "+-----------+--------------------+------------+\n",
      "|    Bugatti|    Chiron Pur Sport|        11.0|\n",
      "|    FERRARI|                ENZO|        11.0|\n",
      "|    Bugatti|  Chiron Super Sport|        11.0|\n",
      "|Lamborghini|Aventador Sian Ro...|        12.0|\n",
      "|    Bugatti|                Divo|        12.0|\n",
      "|    FERRARI|       550 MARANELLO|        12.0|\n",
      "|Lamborghini|Aventador Sian Coupe|        12.0|\n",
      "|Lamborghini|Aventador Ultimae...|        13.0|\n",
      "|Lamborghini| Aventador Coupe SVJ|        13.0|\n",
      "|        GMC|SAVANA 2500 PASSE...|        13.0|\n",
      "+-----------+--------------------+------------+\n",
      "\n"
     ]
    }
   ],
   "source": [
    "# 2. Investigate how fuel efficiency varies among different vehicle makes and models to pinpoint high-performing and underperforming vehicles.\n",
    "fuel_efficiency_by_make_model = df_clean.groupBy('MAKE', 'MODEL').agg(\n",
    "    round(avg('COMB (mpg)'), 2).alias('avg_COMB_mpg')\n",
    ")\n",
    "top_high_performing_vehicles = fuel_efficiency_by_make_model.orderBy('avg_COMB_mpg', ascending=False).limit(10)\n",
    "top_low_performing_vehicles = fuel_efficiency_by_make_model.orderBy('avg_COMB_mpg').limit(10)\n",
    "top_high_performing_vehicles.show()\n",
    "top_low_performing_vehicles.show()\n",
    "\n",
    "pandas_top_high_performing_vehicles = top_high_performing_vehicles.toPandas()\n",
    "local_path = \"Goal2_top_high_performing_vehicles.csv\"\n",
    "pandas_top_high_performing_vehicles.to_csv(local_path, index=False)\n",
    "pandas_top_low_performing_vehicles = top_low_performing_vehicles.toPandas()\n",
    "local_path = \"Goal2_top_low_performing_vehicles.csv\"\n",
    "pandas_top_low_performing_vehicles.to_csv(local_path, index=False)"
   ]
  },
  {
   "cell_type": "code",
   "execution_count": 11,
   "id": "29b4eaa2-69c0-4b33-8af6-c90162157c3b",
   "metadata": {},
   "outputs": [],
   "source": [
    "# 3. Assess how engine size, cylinders, and other specifications impact fuel consumption to optimize vehicle design for efficiency\n",
    "df_clean = df_clean.withColumn('YEAR', df_clean['YEAR'].cast('int'))\n",
    "trend_analysis_by_year = df_clean.groupBy('YEAR', 'ENGINE SIZE').agg(\n",
    "    round(avg('FUEL CONSUMPTION'), 2).alias('avg_fuel_consumption')\n",
    ")\n",
    "trend_analysis_by_year.count()\n",
    "\n",
    "pandas_trend_analysis_by_year = trend_analysis_by_year.toPandas()\n",
    "local_path = \"Goal3_trend_analysis_by_year.csv\"\n",
    "pandas_trend_analysis_by_year.to_csv(local_path, index=False)"
   ]
  },
  {
   "cell_type": "code",
   "execution_count": 12,
   "id": "126484c7-264d-4f3a-8b1f-8617f084f814",
   "metadata": {},
   "outputs": [
    {
     "name": "stdout",
     "output_type": "stream",
     "text": [
      "+------------+--------------------+\n",
      "|TRANSMISSION|avg_fuel_consumption|\n",
      "+------------+--------------------+\n",
      "|AS4         |11.72               |\n",
      "|AS10        |13.95               |\n",
      "|A9          |12.37               |\n",
      "|AV10        |8.5                 |\n",
      "|AM5         |6.13                |\n",
      "|A6          |14.62               |\n",
      "|AV1         |7.44                |\n",
      "|M4          |8.4                 |\n",
      "|M7          |12.91               |\n",
      "|A8          |13.89               |\n",
      "|AV          |8.23                |\n",
      "|AM9         |11.1                |\n",
      "|AS9         |11.89               |\n",
      "|AS6         |12.37               |\n",
      "|M6          |12.06               |\n",
      "|AV8         |9.79                |\n",
      "|AV6         |8.56                |\n",
      "|AS7         |13.17               |\n",
      "|A10         |14.77               |\n",
      "|A4          |14.2                |\n",
      "|AS8         |12.97               |\n",
      "|M5          |10.78               |\n",
      "|AS5         |12.76               |\n",
      "|AV7         |9.0                 |\n",
      "|A7          |13.65               |\n",
      "|AM8         |13.1                |\n",
      "|A5          |14.11               |\n",
      "|AM6         |9.69                |\n",
      "|AM7         |13.32               |\n",
      "|A3          |13.68               |\n",
      "+------------+--------------------+\n",
      "\n"
     ]
    }
   ],
   "source": [
    "# 4. Determine how different types of transmissions (e.g., automatic, manual) influence fuel efficiency to guide transmission selection in vehicle design.\n",
    "transmission_efficiency = df_clean.groupBy('TRANSMISSION').agg(\n",
    "    round(avg('FUEL CONSUMPTION'), 2).alias('avg_fuel_consumption')\n",
    ")\n",
    "\n",
    "# Show the results to compare fuel efficiency by transmission type\n",
    "transmission_efficiency.show(transmission_efficiency.count(), truncate=False)\n",
    "\n",
    "pandas_transmission_efficiency = transmission_efficiency.toPandas()\n",
    "local_path = \"Goal4_transmission_efficiency.csv\"\n",
    "pandas_transmission_efficiency.to_csv(local_path, index=False)"
   ]
  },
  {
   "cell_type": "code",
   "execution_count": 13,
   "id": "6a00d773-8f49-4918-82aa-75001b3ecb3f",
   "metadata": {},
   "outputs": [
    {
     "name": "stdout",
     "output_type": "stream",
     "text": [
      "Correlation between Fuel Consumption and Emissions: 0.9191005620020016\n"
     ]
    }
   ],
   "source": [
    "# 5: Evaluate the relationship between fuel consumption and emissions, providing insights into the ecological footprint of various vehicles.\n",
    "correlation = df_clean.corr('FUEL CONSUMPTION', 'EMISSIONS')\n",
    "print(f\"Correlation between Fuel Consumption and Emissions: {correlation}\")"
   ]
  },
  {
   "cell_type": "code",
   "execution_count": 14,
   "id": "de832cc4-09e6-4a08-97cf-413eef44c5c0",
   "metadata": {},
   "outputs": [
    {
     "name": "stdout",
     "output_type": "stream",
     "text": [
      "+---------+--------------------+\n",
      "|CYLINDERS|avg_fuel_consumption|\n",
      "+---------+--------------------+\n",
      "|        3|                7.12|\n",
      "|        4|                8.61|\n",
      "|        5|               10.12|\n",
      "|        6|               11.18|\n",
      "|        2|               11.18|\n",
      "|        8|               14.15|\n",
      "|       10|                15.4|\n",
      "|       12|               16.33|\n",
      "|       16|               23.08|\n",
      "+---------+--------------------+\n",
      "\n"
     ]
    }
   ],
   "source": [
    "# 6. Analyze whether vehicles with more cylinders tend to consume more fuel.\n",
    "selected_df = df_clean.select('ENGINE SIZE', 'CYLINDERS', 'COMB (L/100 km)')\n",
    "fuel_consumption_by_cylinders = selected_df.groupBy('CYLINDERS').agg(\n",
    "    round(avg('COMB (L/100 km)'), 2).alias('avg_fuel_consumption')\n",
    ")\n",
    "fuel_consumption_by_cylinders = fuel_consumption_by_cylinders.orderBy('avg_fuel_consumption', ascending=True)\n",
    "fuel_consumption_by_cylinders.show()\n",
    "\n",
    "pandas_fuel_consumption_by_cylinders = fuel_consumption_by_cylinders.toPandas()\n",
    "local_path = \"Goal6_fuel_consumption_by_cylinders.csv\"\n",
    "pandas_fuel_consumption_by_cylinders.to_csv(local_path, index=False)"
   ]
  },
  {
   "cell_type": "code",
   "execution_count": 15,
   "id": "bd099bcf-1a78-4203-8dd9-a8cc821dedbf",
   "metadata": {},
   "outputs": [
    {
     "name": "stdout",
     "output_type": "stream",
     "text": [
      "+----+--------------------+\n",
      "|FUEL|avg_fuel_consumption|\n",
      "+----+--------------------+\n",
      "|   D|                8.55|\n",
      "|   X|               10.39|\n",
      "|   Z|               11.26|\n",
      "|   N|               16.59|\n",
      "|   E|               16.78|\n",
      "+----+--------------------+\n",
      "\n"
     ]
    }
   ],
   "source": [
    "# 7. To analyze how different fuel types (e.g., gasoline, diesel, electric) affect fuel consumption and identify trends in the popularity and efficiency of different fuel sources.\n",
    "selected_df = df_clean.select('FUEL', 'COMB (L/100 km)')\n",
    "fuel_consumption_by_fuel_type = selected_df.groupBy('FUEL').agg(\n",
    "    round(avg('COMB (L/100 km)'), 2).alias('avg_fuel_consumption')\n",
    ")\n",
    "fuel_consumption_by_fuel_type = fuel_consumption_by_fuel_type.orderBy('avg_fuel_consumption', ascending=True)\n",
    "fuel_consumption_by_fuel_type.show()\n",
    "\n",
    "pandas_fuel_consumption_by_fuel_type = fuel_consumption_by_fuel_type.toPandas()\n",
    "local_path = \"Goal5_fuel_consumption_by_fuel_type.csv\"\n",
    "pandas_fuel_consumption_by_fuel_type.to_csv(local_path, index=False)"
   ]
  },
  {
   "cell_type": "code",
   "execution_count": 16,
   "id": "2fb7928e-f536-4251-bf08-61b8b3e72ce7",
   "metadata": {},
   "outputs": [
    {
     "data": {
      "text/plain": [
       "405"
      ]
     },
     "execution_count": 16,
     "metadata": {},
     "output_type": "execute_result"
    }
   ],
   "source": [
    "# 8. Calculate the average fuel consumption (L/100 km) for vehicles with specific transmission types, grouped by vehicle class and ordered by the most fuel-efficient combination.\n",
    "grouped_data = df.groupBy('TRANSMISSION', 'VEHICLE CLASS').agg(\n",
    "    avg('FUEL CONSUMPTION').alias('avg_fuel_consumption')\n",
    ")\n",
    "ordered_data = grouped_data.orderBy('avg_fuel_consumption')\n",
    "ordered_data.count()"
   ]
  },
  {
   "cell_type": "code",
   "execution_count": 17,
   "id": "f065d4ab-7f7a-4e25-aa30-114c52df4fbe",
   "metadata": {},
   "outputs": [
    {
     "name": "stdout",
     "output_type": "stream",
     "text": [
      "+---------+----------+\n",
      "|     MAKE|sum_change|\n",
      "+---------+----------+\n",
      "|CHEVROLET|   5513.99|\n",
      "|     FORD|   5034.29|\n",
      "|      GMC|   3731.19|\n",
      "|   TOYOTA|   3259.56|\n",
      "|    HONDA|   2706.06|\n",
      "+---------+----------+\n",
      "\n"
     ]
    }
   ],
   "source": [
    "# 9. Find the top 5 vehicle makes with the most significant change in fuel consumption over the years.\n",
    "from pyspark.sql.window import Window\n",
    "window_spec = Window.partitionBy('MAKE').orderBy('YEAR')\n",
    "fuel_change = df_clean.withColumn('change', round(((df_clean['FUEL CONSUMPTION'] - lag(df_clean['FUEL CONSUMPTION']).over(window_spec)) / lag(df_clean['FUEL CONSUMPTION']).over(window_spec) * 100), 2))\n",
    "top_makes_change = fuel_change.groupBy('MAKE').agg(round(sum('change'), 2).alias('sum_change')).orderBy('sum_change', ascending=False).limit(5)\n",
    "top_makes_change.show()"
   ]
  },
  {
   "cell_type": "code",
   "execution_count": 18,
   "id": "cdab35d9-3247-4485-99d6-b5364f003f17",
   "metadata": {},
   "outputs": [
    {
     "data": {
      "text/plain": [
       "891"
      ]
     },
     "execution_count": 18,
     "metadata": {},
     "output_type": "execute_result"
    }
   ],
   "source": [
    "# 10. Identify the top 3 vehicle makes with the highest average emissions (EMISSIONS) for each year, considering the year-to-year change.\n",
    "emissions_change_df = df_clean.withColumn('emissions_change', df_clean['EMISSIONS'] - lag(df_clean['EMISSIONS']).over(window_spec))\n",
    "emissions_change_avg_df = emissions_change_df.groupBy('YEAR', 'MAKE').agg(round(avg('emissions_change'), 2).alias('avg_emissions_change'))\n",
    "emissions_change_avg_df = emissions_change_avg_df.orderBy(['YEAR', desc('avg_emissions_change')])\n",
    "emissions_change_avg_df.count()"
   ]
  },
  {
   "cell_type": "code",
   "execution_count": null,
   "id": "350030cc-8f09-4d18-9b29-99edcf01d046",
   "metadata": {},
   "outputs": [],
   "source": []
  }
 ],
 "metadata": {
  "kernelspec": {
   "display_name": "Python 3 (ipykernel)",
   "language": "python",
   "name": "python3"
  },
  "language_info": {
   "codemirror_mode": {
    "name": "ipython",
    "version": 3
   },
   "file_extension": ".py",
   "mimetype": "text/x-python",
   "name": "python",
   "nbconvert_exporter": "python",
   "pygments_lexer": "ipython3",
   "version": "3.10.7"
  }
 },
 "nbformat": 4,
 "nbformat_minor": 5
}
